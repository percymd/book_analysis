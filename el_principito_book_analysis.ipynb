{
 "cells": [
  {
   "cell_type": "code",
   "execution_count": 1,
   "id": "c4228ed8",
   "metadata": {},
   "outputs": [],
   "source": [
    "import matplotlib.pyplot as plt\n",
    "import numpy as np \n",
    "\n",
    "# importamos log2 para calcular la información\n",
    "from math import log2"
   ]
  },
  {
   "cell_type": "markdown",
   "id": "4404e1d6",
   "metadata": {},
   "source": [
    "### Leer el libro"
   ]
  },
  {
   "cell_type": "code",
   "execution_count": 2,
   "id": "06a5ad49",
   "metadata": {},
   "outputs": [],
   "source": [
    "def read_book(url):\n",
    "    # Leemos el libro con una url y regresamos el contenido con codificación UTF-8\n",
    "    file = open(url,\"r\",encoding='UTF-8')\n",
    "    content = list()\n",
    "    if file.mode == 'r':\n",
    "        content = file.read()\n",
    "    \n",
    "    return content"
   ]
  },
  {
   "cell_type": "markdown",
   "id": "580c4b0b",
   "metadata": {},
   "source": [
    "### Generar vector de probilidades por símbolo"
   ]
  },
  {
   "cell_type": "code",
   "execution_count": 3,
   "id": "f0b73816",
   "metadata": {},
   "outputs": [],
   "source": [
    "# Contará cuántas veces aparece cada símbolo a lo largo del libro.\n",
    "def probability_per_symbol(book,alphabeat):\n",
    "  \n",
    "   # Tamaño de nuestro alfabeto\n",
    "   size = len(alphabeat)\n",
    "\n",
    "   # Tamaño del libro (total de caracteres)\n",
    "   bookSize = len(book)\n",
    "\n",
    "   # Vector donde guardaremos la probabilidad de cada símbolo\n",
    "   Probability = np.zeros(size)\n",
    "\n",
    "   for i in range(size):\n",
    "       reps = 0\n",
    "       # Símbolo actual en que contará las repeticiones\n",
    "       current_symbol = alphabeat[i]\n",
    "       for j in range(bookSize):\n",
    "           # Símbolo con el que lo comparará\n",
    "           symbol = book[j]\n",
    "\n",
    "           #Si son iguales entonces ha aparecido y se suma el contador\n",
    "           if symbol == current_symbol:\n",
    "               reps+=1\n",
    "      \n",
    "       # Asigna la probabilidad de aparición del símbolo en turno\n",
    "       Probability[i] = reps/bookSize\n",
    "  \n",
    "   return Probability"
   ]
  },
  {
   "cell_type": "markdown",
   "id": "d2846db1",
   "metadata": {},
   "source": [
    "### Cálculo de información"
   ]
  },
  {
   "cell_type": "code",
   "execution_count": 4,
   "id": "4a5005ad",
   "metadata": {},
   "outputs": [],
   "source": [
    "def information_per_symbol(Probability, size_alphabet):\n",
    "\n",
    "    # Vector vacío de información por símbolo\n",
    "    Information = np.zeros(size_alphabet)\n",
    "    \n",
    "    #Recorremos todo el alfabeto\n",
    "    for i in range(size_alphabet):\n",
    "        p_by_symbol = Probability[i]\n",
    "        # Se calcula la información de cada símbolo\n",
    "        if p_by_symbol != 0:\n",
    "            Information[i] = log2(1/p_by_symbol)\n",
    "        else:\n",
    "            Information[i] = 0\n",
    "\n",
    "    return Information"
   ]
  },
  {
   "cell_type": "markdown",
   "id": "d38a745c",
   "metadata": {},
   "source": [
    "### Cálculo de la entropía de nuestra fuente de información"
   ]
  },
  {
   "cell_type": "code",
   "execution_count": 5,
   "id": "6fffb9c6",
   "metadata": {},
   "outputs": [],
   "source": [
    "def calc_entropy(Probability, Information):\n",
    "    # Vector de entropía vacío\n",
    "    h = np.zeros(len(Probability))\n",
    "\n",
    "    # Calculo de entropia que es la probabilidad del símbolo por la información de cada símbolo\n",
    "    for i in range(len(Probability)):\n",
    "        h[i]=Probability[i]*Information[i]\n",
    "    \n",
    "    # Se realiza la suma para acumular el cálculo de la entropía\n",
    "    H = sum(h)\n",
    "\n",
    "    return H"
   ]
  },
  {
   "cell_type": "markdown",
   "id": "030b178a",
   "metadata": {},
   "source": [
    "### Graficación de la probabilidad e información otorgada por símbolo"
   ]
  },
  {
   "cell_type": "code",
   "execution_count": 6,
   "id": "ca54cdcf",
   "metadata": {},
   "outputs": [],
   "source": [
    "def plot_bar_Probabilities(alphabeat,probabilities):\n",
    "    # this is for plotting purpose\n",
    "    index = np.arange(len(alphabeat))\n",
    "    plt.figure(1)\n",
    "    plt.bar(index, probabilities)\n",
    "    plt.xlabel('Símbolo', fontsize=12)\n",
    "    plt.ylabel('Probabilidad', fontsize=12)\n",
    "    plt.xticks(index, alphabeat, fontsize=10)\n",
    "    plt.title('Probabilidades por cada símbolo del alfabeto')\n",
    "\n",
    "def plot_bar_Information(alphabeat,Information):\n",
    "    # this is for plotting purpose\n",
    "    plt.figure(2)\n",
    "    index = np.arange(len(alphabeat))\n",
    "    plt.bar(index, Information)\n",
    "    plt.xlabel('Símbolo', fontsize=12)\n",
    "    plt.ylabel('Información', fontsize=12)\n",
    "    plt.xticks(index, alphabeat, fontsize=10)\n",
    "    plt.title('Información por símbolo')"
   ]
  },
  {
   "cell_type": "markdown",
   "id": "aa54958f",
   "metadata": {},
   "source": [
    "### Ejecución"
   ]
  },
  {
   "cell_type": "code",
   "execution_count": 7,
   "id": "a9a7738c",
   "metadata": {},
   "outputs": [
    {
     "data": {
      "image/png": "[encoded data removed]",
      "text/plain": [
       "<Figure size 432x288 with 1 Axes>"
      ]
     },
     "metadata": {
      "needs_background": "light"
     },
     "output_type": "display_data"
    },
    {
     "data": {
      "image/png": "[encoded data removed]",
      "text/plain": [
       "<Figure size 432x288 with 1 Axes>"
      ]
     },
     "metadata": {
      "needs_background": "light"
     },
     "output_type": "display_data"
    },
    {
     "name": "stdout",
     "output_type": "stream",
     "text": [
      "La información promedio de cada símbolo es de (Entropía): 4.006046519808105 bits\n",
      "La longitud del libro es: 71565 símbolos\n",
      "La información promedio contenida por esta fuente de información es 35.83658989875838 kB\n"
     ]
    }
   ],
   "source": [
    "# Leemos el libro\n",
    "book = read_book(\"el_principito.txt\")\n",
    "\n",
    "# Tamaño del libro\n",
    "bookSize = len(book) \n",
    "\n",
    "# Alfabeto\n",
    "ABC=['a','b','c','d','e','f','g','h','i','j','k','l','m','n','ñ','o','p','q','r','s','t','u','v','w','x','y','z',' ']\n",
    "\n",
    "# Tamaño del alfabeto\n",
    "size_alphabet = len(ABC)\n",
    "\n",
    "# Vector de probabilidad por símbolo\n",
    "Probability = probability_per_symbol(book, ABC)\n",
    "\n",
    "# Vector de información por símbolo\n",
    "Information = information_per_symbol(Probability,size_alphabet)\n",
    "\n",
    "# Entropía en bits\n",
    "H = calc_entropy(Probability, Information)\n",
    "\n",
    "# Gráficas \n",
    "plot_bar_Probabilities(ABC, Probability)\n",
    "plot_bar_Information(ABC, Information)\n",
    "plt.show()\n",
    "\n",
    "# Análisis de entropía del libro\n",
    "print(f\"La información promedio de cada símbolo es de (Entropía): {H} bits\")\n",
    "print(f\"La longitud del libro es: {bookSize} símbolos\")\n",
    "print(f\"La información promedio contenida por esta fuente de información es {bookSize*H / 8000} kB\")"
   ]
  },
  {
   "cell_type": "code",
   "execution_count": null,
   "id": "0a818bd0",
   "metadata": {},
   "outputs": [],
   "source": []
  }
 ],
 "metadata": {
  "kernelspec": {
   "display_name": "Python 3",
   "language": "python",
   "name": "python3"
  },
  "language_info": {
   "codemirror_mode": {
    "name": "ipython",
    "version": 3
   },
   "file_extension": ".py",
   "mimetype": "text/x-python",
   "name": "python",
   "nbconvert_exporter": "python",
   "pygments_lexer": "ipython3",
   "version": "3.8.6rc1"
  }
 },
 "nbformat": 4,
 "nbformat_minor": 5
}
